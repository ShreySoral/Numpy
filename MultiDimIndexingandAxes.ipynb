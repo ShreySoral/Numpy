{
 "cells": [
  {
   "cell_type": "code",
   "execution_count": 1,
   "id": "6dcb6457-2147-4ef5-8d10-c69dd7d21a21",
   "metadata": {},
   "outputs": [],
   "source": [
    "import numpy as np "
   ]
  },
  {
   "cell_type": "code",
   "execution_count": 2,
   "id": "8534c3fe-dabf-49ac-8145-6e44d2603f8f",
   "metadata": {},
   "outputs": [],
   "source": [
    "arr = np.array([[1, 2, 3], \n",
    "                [4, 5, 6], \n",
    "                [7, 8, 9]])"
   ]
  },
  {
   "cell_type": "code",
   "execution_count": 3,
   "id": "58e7d8a1-8af2-484f-bf1f-bd9e943f634a",
   "metadata": {},
   "outputs": [
    {
     "name": "stdout",
     "output_type": "stream",
     "text": [
      "[[1 2 3]\n",
      " [4 5 6]\n",
      " [7 8 9]]\n"
     ]
    }
   ],
   "source": [
    "print(arr)"
   ]
  },
  {
   "cell_type": "code",
   "execution_count": 4,
   "id": "ce7b1ac5-4205-4b31-991b-be8dbf08731c",
   "metadata": {},
   "outputs": [
    {
     "data": {
      "text/plain": [
       "array([1, 2, 3])"
      ]
     },
     "execution_count": 4,
     "metadata": {},
     "output_type": "execute_result"
    }
   ],
   "source": [
    "# axis 0 is rows and axis 1 is columns \n",
    "arr[0]"
   ]
  },
  {
   "cell_type": "code",
   "execution_count": 5,
   "id": "9145fb5c-ebbf-4b32-8ec0-072c1dca4a65",
   "metadata": {},
   "outputs": [
    {
     "name": "stdout",
     "output_type": "stream",
     "text": [
      "[12 15 18]\n"
     ]
    }
   ],
   "source": [
    "print(np.sum(arr,axis=0))"
   ]
  },
  {
   "cell_type": "code",
   "execution_count": 6,
   "id": "b7341562-99f0-4ef6-80ff-b997711345b4",
   "metadata": {},
   "outputs": [
    {
     "name": "stdout",
     "output_type": "stream",
     "text": [
      "[ 6 15 24]\n"
     ]
    }
   ],
   "source": [
    "print(np.sum(arr,axis=1))"
   ]
  },
  {
   "cell_type": "code",
   "execution_count": 7,
   "id": "375a5680-8a94-4980-8fe5-08c7353440d8",
   "metadata": {},
   "outputs": [
    {
     "data": {
      "text/plain": [
       "np.int64(2)"
      ]
     },
     "execution_count": 7,
     "metadata": {},
     "output_type": "execute_result"
    }
   ],
   "source": [
    "# indexing in multidimensional arrays \n",
    "arr[0][1]"
   ]
  },
  {
   "cell_type": "code",
   "execution_count": 8,
   "id": "9e108be8-4f16-47c8-8ccc-369c695a9616",
   "metadata": {},
   "outputs": [
    {
     "data": {
      "text/plain": [
       "np.int64(2)"
      ]
     },
     "execution_count": 8,
     "metadata": {},
     "output_type": "execute_result"
    }
   ],
   "source": [
    "arr[0,1]"
   ]
  },
  {
   "cell_type": "code",
   "execution_count": 9,
   "id": "2f2458a3-3532-4ebb-83bd-325cf37cce29",
   "metadata": {},
   "outputs": [
    {
     "name": "stdout",
     "output_type": "stream",
     "text": [
      "2\n"
     ]
    }
   ],
   "source": [
    "print(arr[0,1])"
   ]
  },
  {
   "cell_type": "code",
   "execution_count": 11,
   "id": "b28a3714-48ea-4461-ad00-3c1d6c22cedb",
   "metadata": {},
   "outputs": [
    {
     "name": "stdout",
     "output_type": "stream",
     "text": [
      "[[2 3]\n",
      " [5 6]]\n"
     ]
    }
   ],
   "source": [
    "print(arr[0:2,1:3])"
   ]
  },
  {
   "cell_type": "code",
   "execution_count": 12,
   "id": "03b37a41-191a-40ac-b15b-941b61892374",
   "metadata": {},
   "outputs": [
    {
     "name": "stdout",
     "output_type": "stream",
     "text": [
      "(2, 2, 3)\n"
     ]
    }
   ],
   "source": [
    "# indexing in 3d arrays\n",
    "arr3D = np.array([[[1, 2, 3], [4, 5, 6]],\n",
    "                  [[7, 8, 9], [10, 11, 12]]])\n",
    " \n",
    "# Output of arr3D.shape is → (depth, rows, columns)\n",
    "print(arr3D.shape)  # Output: (2, 2, 3) "
   ]
  },
  {
   "cell_type": "code",
   "execution_count": 13,
   "id": "b8249f2a-659a-413c-865e-4970b051db91",
   "metadata": {},
   "outputs": [
    {
     "name": "stdout",
     "output_type": "stream",
     "text": [
      "6\n",
      "[[1 2 3]\n",
      " [7 8 9]]\n"
     ]
    }
   ],
   "source": [
    "# First sheet, second row, third column\n",
    "print(arr3D[0, 1, 2])  # Output: 6\n",
    " \n",
    "print(arr3D[:, 0, :])   # Get the first row from both sheets"
   ]
  },
  {
   "cell_type": "code",
   "execution_count": 14,
   "id": "f1f59398-c0f0-4bf6-857c-87ba0858531d",
   "metadata": {},
   "outputs": [
    {
     "name": "stdout",
     "output_type": "stream",
     "text": [
      "[1 4 7]\n"
     ]
    }
   ],
   "source": [
    "# Get all rows of the first column\n",
    "first_col = arr[:, 0]\n",
    "print(first_col)  # Output: [1 4 7]"
   ]
  },
  {
   "cell_type": "code",
   "execution_count": 15,
   "id": "d6676e78-b9fb-45e9-b1aa-64fea7d82355",
   "metadata": {},
   "outputs": [
    {
     "name": "stdout",
     "output_type": "stream",
     "text": [
      "[[1 2 3]\n",
      " [7 8 9]]\n"
     ]
    }
   ],
   "source": [
    "# Get the first row from each \"sheet\" in a 3D array\n",
    "first_rows = arr3D[:, 0, :]\n",
    "print(first_rows)"
   ]
  },
  {
   "cell_type": "code",
   "execution_count": 16,
   "id": "cbb91cd3-0df7-4c38-aac2-fba68dab561a",
   "metadata": {},
   "outputs": [
    {
     "name": "stdout",
     "output_type": "stream",
     "text": [
      "[[1 0 3]\n",
      " [4 0 6]\n",
      " [7 0 9]]\n"
     ]
    }
   ],
   "source": [
    "# Replace all elements in column 1 with 0\n",
    "arr[:, 1] = 0\n",
    "print(arr)"
   ]
  },
  {
   "cell_type": "code",
   "execution_count": 17,
   "id": "f36461e2-66ea-40d2-8eeb-f1511cce20bb",
   "metadata": {},
   "outputs": [
    {
     "data": {
      "text/plain": [
       "array([[1, 0, 3],\n",
       "       [4, 0, 6],\n",
       "       [7, 0, 9]])"
      ]
     },
     "execution_count": 17,
     "metadata": {},
     "output_type": "execute_result"
    }
   ],
   "source": [
    "arr"
   ]
  },
  {
   "cell_type": "code",
   "execution_count": null,
   "id": "141cf83e-1bb0-42bd-9f11-376fe6c1cc09",
   "metadata": {},
   "outputs": [],
   "source": []
  }
 ],
 "metadata": {
  "kernelspec": {
   "display_name": "Python 3 (ipykernel)",
   "language": "python",
   "name": "python3"
  },
  "language_info": {
   "codemirror_mode": {
    "name": "ipython",
    "version": 3
   },
   "file_extension": ".py",
   "mimetype": "text/x-python",
   "name": "python",
   "nbconvert_exporter": "python",
   "pygments_lexer": "ipython3",
   "version": "3.13.2"
  }
 },
 "nbformat": 4,
 "nbformat_minor": 5
}

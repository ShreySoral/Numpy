{
 "cells": [
  {
   "cell_type": "code",
   "execution_count": 1,
   "id": "7d9fc196-97f0-430d-88ee-9252a3148f0b",
   "metadata": {},
   "outputs": [],
   "source": [
    "import numpy as np "
   ]
  },
  {
   "cell_type": "code",
   "execution_count": 2,
   "id": "5a64fb5c-65a5-48ef-ad11-a79a7ef8afac",
   "metadata": {},
   "outputs": [
    {
     "name": "stdout",
     "output_type": "stream",
     "text": [
      "int64\n"
     ]
    }
   ],
   "source": [
    "arr = np.array([1, 2, 3, 4, 5])\n",
    "print(arr.dtype)  # Output: int64 (or int32 depending on the system)"
   ]
  },
  {
   "cell_type": "code",
   "execution_count": 3,
   "id": "68ca9230-8f18-44b7-83c8-c29300283cad",
   "metadata": {},
   "outputs": [
    {
     "data": {
      "text/plain": [
       "array([1., 2., 3., 4., 5.])"
      ]
     },
     "execution_count": 3,
     "metadata": {},
     "output_type": "execute_result"
    }
   ],
   "source": [
    "# changing data types \n",
    "arr.astype(\"float\")"
   ]
  },
  {
   "cell_type": "code",
   "execution_count": 4,
   "id": "a9f53c8e-c276-4420-8c2d-1d7f95aaf30b",
   "metadata": {},
   "outputs": [
    {
     "data": {
      "text/plain": [
       "array([1, 2, 3, 4, 5])"
      ]
     },
     "execution_count": 4,
     "metadata": {},
     "output_type": "execute_result"
    }
   ],
   "source": [
    "arr"
   ]
  },
  {
   "cell_type": "code",
   "execution_count": 6,
   "id": "9c11ae53-390f-41a6-be20-393cef4a1354",
   "metadata": {},
   "outputs": [],
   "source": [
    "arr2=np.array([2,3,4,5],dtype=\"float32\")"
   ]
  },
  {
   "cell_type": "code",
   "execution_count": 7,
   "id": "e543bbc0-2ffe-4b0c-b969-d638d5a76b7e",
   "metadata": {},
   "outputs": [
    {
     "data": {
      "text/plain": [
       "array([2., 3., 4., 5.], dtype=float32)"
      ]
     },
     "execution_count": 7,
     "metadata": {},
     "output_type": "execute_result"
    }
   ],
   "source": [
    "arr2"
   ]
  },
  {
   "cell_type": "code",
   "execution_count": 8,
   "id": "dbaa823f-055f-4ccd-83be-2be9322407a5",
   "metadata": {},
   "outputs": [
    {
     "name": "stdout",
     "output_type": "stream",
     "text": [
      "[1000000 2000000 3000000]\n",
      "int32\n"
     ]
    }
   ],
   "source": [
    "# downcasting to save memory \n",
    "arr_large = np.array([1000000, 2000000, 3000000], dtype=np.int64)\n",
    "arr_small = arr_large.astype(np.int32)  # Downcasting to a smaller dtype\n",
    "print(arr_small)  # Output: [1000000 2000000 3000000]\n",
    "print(arr_small.dtype)  # Output: int32"
   ]
  },
  {
   "cell_type": "markdown",
   "id": "e3c82e99-5569-4d24-83d6-6fca7377f9f3",
   "metadata": {},
   "source": [
    "#  why data types matter \n",
    "## Memory Usage: Smaller data types use less memory.\n",
    "\n",
    "## Performance: Operations on smaller data types are faster due to less data being processed.\n",
    "\n",
    "## Precision: Choosing the appropriate data type ensures that you don't lose precision (e.g., using float32 instead of float64 if you don't need that extra precision)."
   ]
  },
  {
   "cell_type": "code",
   "execution_count": 9,
   "id": "1fca62f7-b5d8-484f-9fd4-c9441f4c68a1",
   "metadata": {},
   "outputs": [
    {
     "name": "stdout",
     "output_type": "stream",
     "text": [
      "24\n",
      "12\n"
     ]
    }
   ],
   "source": [
    "# memory usage \n",
    "arr_int64 = np.array([1, 2, 3], dtype=np.int64)\n",
    "arr_int32 = np.array([1, 2, 3], dtype=np.int32)\n",
    " \n",
    "print(arr_int64.nbytes)  # Output: 24 bytes (3 elements * 8 bytes each)\n",
    "print(arr_int32.nbytes)  # Output: 12 bytes (3 elements * 4 bytes each)"
   ]
  },
  {
   "cell_type": "code",
   "execution_count": 10,
   "id": "d2c6a360-74e1-4f72-b833-6a0cb297cccc",
   "metadata": {},
   "outputs": [
    {
     "name": "stdout",
     "output_type": "stream",
     "text": [
      "['apple' 'banana' 'cherry']\n"
     ]
    }
   ],
   "source": [
    "# string data type in numpy \n",
    "# However, working with strings in NumPy is less efficient than using lists or Python's built-in string types.\n",
    "arr = np.array(['apple', 'banana', 'cherry'], dtype='U10')  # Unicode string array\n",
    "print(arr)"
   ]
  },
  {
   "cell_type": "code",
   "execution_count": 11,
   "id": "0fe33d3c-8b2a-4d4e-a820-1ec49c8d77c6",
   "metadata": {},
   "outputs": [
    {
     "name": "stdout",
     "output_type": "stream",
     "text": [
      "[1.+2.j 3.+4.j 5.+6.j]\n"
     ]
    }
   ],
   "source": [
    "# complex numbers \n",
    "arr = np.array([1 + 2j, 3 + 4j, 5 + 6j], dtype='complex128')\n",
    "print(arr)"
   ]
  },
  {
   "cell_type": "code",
   "execution_count": 13,
   "id": "48fdd49b-baa4-4e77-a51c-07281f7aec00",
   "metadata": {},
   "outputs": [
    {
     "name": "stdout",
     "output_type": "stream",
     "text": [
      "[{'a': 1} list([1, 2, 3]) 'hello']\n"
     ]
    }
   ],
   "source": [
    "# object data type\n",
    "# If you need to store mixed or complex data types (e.g., Python objects), you can use dtype='object'. However, this type sacrifices performance, so it should only be used when absolutely necessary.\n",
    "arr3 = np.array([{'a': 1}, [1, 2, 3], 'hello'], dtype=object)\n",
    "print(arr3)"
   ]
  },
  {
   "cell_type": "code",
   "execution_count": null,
   "id": "6aa4dd26-01d1-4a6e-80e6-d53bfa275765",
   "metadata": {},
   "outputs": [],
   "source": []
  }
 ],
 "metadata": {
  "kernelspec": {
   "display_name": "Python 3 (ipykernel)",
   "language": "python",
   "name": "python3"
  },
  "language_info": {
   "codemirror_mode": {
    "name": "ipython",
    "version": 3
   },
   "file_extension": ".py",
   "mimetype": "text/x-python",
   "name": "python",
   "nbconvert_exporter": "python",
   "pygments_lexer": "ipython3",
   "version": "3.13.2"
  }
 },
 "nbformat": 4,
 "nbformat_minor": 5
}

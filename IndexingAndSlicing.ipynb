{
 "cells": [
  {
   "cell_type": "code",
   "execution_count": 1,
   "id": "bfea843d-473f-47c1-9684-879e14c1ca98",
   "metadata": {},
   "outputs": [],
   "source": [
    "import numpy as np"
   ]
  },
  {
   "cell_type": "code",
   "execution_count": 2,
   "id": "5d2ac062-4d34-4653-b002-64db36003723",
   "metadata": {},
   "outputs": [
    {
     "name": "stdout",
     "output_type": "stream",
     "text": [
      "10\n",
      "40\n"
     ]
    }
   ],
   "source": [
    "arr = np.array([10, 20, 30, 40])\n",
    "print(arr[0])  # 10\n",
    "print(arr[-1]) # 40"
   ]
  },
  {
   "cell_type": "code",
   "execution_count": 3,
   "id": "704f6d82-f645-4b90-94d2-a610802289ff",
   "metadata": {},
   "outputs": [],
   "source": [
    "flat=arr.flatten()"
   ]
  },
  {
   "cell_type": "code",
   "execution_count": 4,
   "id": "1ad908ef-6280-4ece-a8af-0d01a2e8f425",
   "metadata": {},
   "outputs": [
    {
     "data": {
      "text/plain": [
       "array([10, 20, 30, 40])"
      ]
     },
     "execution_count": 4,
     "metadata": {},
     "output_type": "execute_result"
    }
   ],
   "source": [
    "flat"
   ]
  },
  {
   "cell_type": "code",
   "execution_count": 5,
   "id": "0064c820-9568-49a7-a39b-033020c01879",
   "metadata": {},
   "outputs": [
    {
     "name": "stdout",
     "output_type": "stream",
     "text": [
      "[20 30 40]\n",
      "[10 20 30]\n",
      "[10 30]\n"
     ]
    }
   ],
   "source": [
    "# extracting parts of an array\n",
    "print(arr[1:4])  # [20 30 40] (slice from index 1 to 3)\n",
    "print(arr[:3])   # [10 20 30] (first 3 elements)\n",
    "print(arr[::2])  # [10 30 50] (every 2nd element)"
   ]
  },
  {
   "cell_type": "code",
   "execution_count": 6,
   "id": "779d48ec-fc0e-4cfd-b301-ea51c7eae8ac",
   "metadata": {},
   "outputs": [
    {
     "name": "stdout",
     "output_type": "stream",
     "text": [
      "[ 10 999  30  40]\n"
     ]
    }
   ],
   "source": [
    "sliced = arr[1:4]\n",
    "sliced[0] = 999\n",
    "print(arr)  # [10 999 30 40 50]"
   ]
  },
  {
   "cell_type": "code",
   "execution_count": 7,
   "id": "a82a34cd-6859-4015-8386-d2887c6f7d2e",
   "metadata": {},
   "outputs": [],
   "source": [
    "# slicing returns view not a copy changes affect the original array"
   ]
  },
  {
   "cell_type": "code",
   "execution_count": 8,
   "id": "965419b7-4014-465a-b214-67970134ec8a",
   "metadata": {},
   "outputs": [],
   "source": [
    "# use .copy if we need an independent copy \n",
    "arr1 = np.array([10, 20, 30, 40,50])"
   ]
  },
  {
   "cell_type": "code",
   "execution_count": 10,
   "id": "83fcd106-a867-4090-96d2-4a1466c32fc6",
   "metadata": {},
   "outputs": [
    {
     "data": {
      "text/plain": [
       "array([10, 20, 30, 40, 50])"
      ]
     },
     "execution_count": 10,
     "metadata": {},
     "output_type": "execute_result"
    }
   ],
   "source": [
    "arr1"
   ]
  },
  {
   "cell_type": "code",
   "execution_count": 11,
   "id": "f461ce80-389a-4e00-b4d2-2c64ba17a3ab",
   "metadata": {},
   "outputs": [],
   "source": [
    "b=arr1.flatten()"
   ]
  },
  {
   "cell_type": "code",
   "execution_count": 12,
   "id": "0954104a-35da-4cb9-b5e8-f976e61f4e28",
   "metadata": {},
   "outputs": [
    {
     "data": {
      "text/plain": [
       "array([10, 20, 30, 40, 50])"
      ]
     },
     "execution_count": 12,
     "metadata": {},
     "output_type": "execute_result"
    }
   ],
   "source": [
    "b"
   ]
  },
  {
   "cell_type": "code",
   "execution_count": 13,
   "id": "925d2db3-6a88-45eb-9b48-998d2cca7e2c",
   "metadata": {},
   "outputs": [
    {
     "name": "stdout",
     "output_type": "stream",
     "text": [
      "[10 30 50]\n"
     ]
    }
   ],
   "source": [
    "# fancy indexing selecting multiple elements \n",
    "arr = np.array([10, 20, 30, 40, 50])\n",
    "idx = [0, 2, 4]  # Indices to select\n",
    "print(arr[idx])  # [10 30 50]"
   ]
  },
  {
   "cell_type": "code",
   "execution_count": 14,
   "id": "5f0b6a42-e138-4df3-8da0-158ac63d0e01",
   "metadata": {},
   "outputs": [
    {
     "name": "stdout",
     "output_type": "stream",
     "text": [
      "[30 40 50]\n"
     ]
    }
   ],
   "source": [
    "# boolean masking \n",
    "arr = np.array([10, 20, 30, 40, 50])\n",
    "mask = arr > 25  # Condition: values greater than 25\n",
    "print(arr[mask])  # [30 40 50]"
   ]
  },
  {
   "cell_type": "code",
   "execution_count": 15,
   "id": "e111d3a7-47f9-43c6-848d-5476994dbdd0",
   "metadata": {},
   "outputs": [
    {
     "name": "stdout",
     "output_type": "stream",
     "text": [
      "3x3 Random Array:\n",
      " [[0.426465   0.41058074 0.60852864]\n",
      " [0.9234362  0.50264827 0.77707483]\n",
      " [0.5699505  0.38318268 0.58162897]]\n",
      "Shape: (3, 3)\n",
      "Converted to Integers: [1 2 3]\n",
      "Even Numbers using Fancy Indexing: [2 4 6]\n",
      "Reshaped 3x3 Array:\n",
      " [[0 1 2]\n",
      " [3 4 5]\n",
      " [6 7 8]]\n",
      "Numbers > 50: [ 55  78 100]\n"
     ]
    }
   ],
   "source": [
    "# 1. Create a 3×3 array filled with random numbers and print its shape\n",
    "array_random = np.random.rand(3, 3)\n",
    "print(\"3x3 Random Array:\\n\", array_random)\n",
    "print(\"Shape:\", array_random.shape)\n",
    "\n",
    "# 2. Convert an array of floats [1.1, 2.2, 3.3] into integers\n",
    "float_array = np.array([1.1, 2.2, 3.3])\n",
    "int_array = float_array.astype(int)\n",
    "print(\"Converted to Integers:\", int_array)\n",
    "\n",
    "# 3. Use fancy indexing to extract even numbers from [1, 2, 3, 4, 5, 6]\n",
    "arr = np.array([1, 2, 3, 4, 5, 6])\n",
    "even_indices = np.where(arr % 2 == 0)[0]\n",
    "even_numbers = arr[even_indices]\n",
    "print(\"Even Numbers using Fancy Indexing:\", even_numbers)\n",
    "\n",
    "# 4. Reshape a 1D array of size 9 into a 3×3 matrix\n",
    "array_1d = np.arange(9)\n",
    "reshaped_array = array_1d.reshape(3, 3)\n",
    "print(\"Reshaped 3x3 Array:\\n\", reshaped_array)\n",
    "\n",
    "# 5. Use boolean masking to filter numbers greater than 50 in an array\n",
    "arr2 = np.array([10, 55, 23, 78, 42, 100])\n",
    "filtered = arr2[arr2 > 50]\n",
    "print(\"Numbers > 50:\", filtered)"
   ]
  },
  {
   "cell_type": "code",
   "execution_count": null,
   "id": "ae2696b7-ecbf-4cb1-8f79-50f122e814f9",
   "metadata": {},
   "outputs": [],
   "source": []
  }
 ],
 "metadata": {
  "kernelspec": {
   "display_name": "Python 3 (ipykernel)",
   "language": "python",
   "name": "python3"
  },
  "language_info": {
   "codemirror_mode": {
    "name": "ipython",
    "version": 3
   },
   "file_extension": ".py",
   "mimetype": "text/x-python",
   "name": "python",
   "nbconvert_exporter": "python",
   "pygments_lexer": "ipython3",
   "version": "3.13.2"
  }
 },
 "nbformat": 4,
 "nbformat_minor": 5
}

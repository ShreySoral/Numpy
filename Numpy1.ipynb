{
 "cells": [
  {
   "cell_type": "code",
   "execution_count": 2,
   "id": "07cae984-5080-49c9-94b0-8cca79ad6bb6",
   "metadata": {},
   "outputs": [],
   "source": [
    "import numpy as np"
   ]
  },
  {
   "cell_type": "code",
   "execution_count": 3,
   "id": "e99cdc88-b325-40c3-9c13-89fd935decf5",
   "metadata": {},
   "outputs": [],
   "source": [
    "import time "
   ]
  },
  {
   "cell_type": "code",
   "execution_count": 4,
   "id": "53383f49-465b-4d1c-a9f3-b438ef78536b",
   "metadata": {},
   "outputs": [],
   "source": [
    "l1=[1,2,3]\n",
    "l2=[2,3,4]"
   ]
  },
  {
   "cell_type": "code",
   "execution_count": 5,
   "id": "ef560518-a78f-4023-a7f4-fff4f04b0d16",
   "metadata": {},
   "outputs": [
    {
     "data": {
      "text/plain": [
       "[(1, 2), (2, 3), (3, 4)]"
      ]
     },
     "execution_count": 5,
     "metadata": {},
     "output_type": "execute_result"
    }
   ],
   "source": [
    "list(zip(l1,l2))"
   ]
  },
  {
   "cell_type": "code",
   "execution_count": 6,
   "id": "862e1dde-4ead-4e57-9643-45a84cbbcf95",
   "metadata": {},
   "outputs": [
    {
     "name": "stdout",
     "output_type": "stream",
     "text": [
      "Python list addition time: 0.16200494766235352\n"
     ]
    }
   ],
   "source": [
    "size = 1_000_000\n",
    "list1 = list(range(size))\n",
    "list2 = list(range(size))\n",
    " \n",
    "start = time.time()\n",
    "result = [x + y for x, y in zip(list1, list2)]\n",
    "end = time.time()\n",
    "print(\"Python list addition time:\", end - start) "
   ]
  },
  {
   "cell_type": "code",
   "execution_count": 7,
   "id": "e79e0276-5eea-479b-9741-afc586096b4b",
   "metadata": {},
   "outputs": [
    {
     "name": "stdout",
     "output_type": "stream",
     "text": [
      "NumPy array addition time: 0.04949450492858887\n"
     ]
    }
   ],
   "source": [
    "# NumPy array\n",
    "arr1 = np.array(list1)\n",
    "arr2 = np.array(list2)\n",
    " \n",
    "start = time.time()\n",
    "result = arr1 + arr2  # Vectorized operation\n",
    "end = time.time()\n",
    "print(\"NumPy array addition time:\", end - start)"
   ]
  },
  {
   "cell_type": "code",
   "execution_count": 8,
   "id": "778cbebd-79b1-4427-9cda-13273b03f1f3",
   "metadata": {},
   "outputs": [
    {
     "name": "stdout",
     "output_type": "stream",
     "text": [
      "[1 2 3 4 5]\n",
      "[[1 2 3]\n",
      " [4 5 6]]\n",
      "Type: <class 'numpy.ndarray'>\n",
      "Shape: (2, 3)\n"
     ]
    }
   ],
   "source": [
    "# Creating a 1D NumPy array\n",
    "arr1 = np.array([1, 2, 3, 4, 5])\n",
    "print(arr1)\n",
    " \n",
    "# Creating a 2D NumPy array\n",
    "arr2 = np.array([[1, 2, 3], [4, 5, 6]])\n",
    "print(arr2)\n",
    " \n",
    "# Checking type and shape\n",
    "print(\"Type:\", type(arr1))\n",
    "print(\"Shape:\", arr2.shape)"
   ]
  },
  {
   "cell_type": "code",
   "execution_count": 9,
   "id": "b3889d16-79c4-4277-a5aa-2c6b813ea795",
   "metadata": {},
   "outputs": [
    {
     "name": "stdout",
     "output_type": "stream",
     "text": [
      "Python list size: 8056000 bytes\n",
      "NumPy array size: 8000 bytes\n"
     ]
    }
   ],
   "source": [
    "import sys\n",
    " \n",
    "list_data = list(range(1000))\n",
    "numpy_data = np.array(list_data)\n",
    " \n",
    "print(\"Python list size:\", sys.getsizeof(list_data) * len(list_data), \"bytes\")\n",
    "print(\"NumPy array size:\", numpy_data.nbytes, \"bytes\")"
   ]
  },
  {
   "cell_type": "code",
   "execution_count": 10,
   "id": "9dc054e4-9187-44ad-ae7d-ab6778ecf4ed",
   "metadata": {},
   "outputs": [],
   "source": [
    "# Python list (loop-based)\n",
    "list_squares = [x ** 2 for x in list1]\n",
    "\n",
    "# NumPy (vectorized)\n",
    "numpy_squares = arr1 ** 2"
   ]
  },
  {
   "cell_type": "code",
   "execution_count": null,
   "id": "9b0d9d1f-e675-47cc-8caf-50dad52d8863",
   "metadata": {},
   "outputs": [],
   "source": []
  }
 ],
 "metadata": {
  "kernelspec": {
   "display_name": "Python 3 (ipykernel)",
   "language": "python",
   "name": "python3"
  },
  "language_info": {
   "codemirror_mode": {
    "name": "ipython",
    "version": 3
   },
   "file_extension": ".py",
   "mimetype": "text/x-python",
   "name": "python",
   "nbconvert_exporter": "python",
   "pygments_lexer": "ipython3",
   "version": "3.13.2"
  }
 },
 "nbformat": 4,
 "nbformat_minor": 5
}
